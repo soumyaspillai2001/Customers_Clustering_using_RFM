{
 "cells": [
  {
   "cell_type": "markdown",
   "id": "84935379",
   "metadata": {},
   "source": [
    "# Import Required Libraries"
   ]
  },
  {
   "cell_type": "code",
   "execution_count": 31,
   "id": "92b7a56e",
   "metadata": {},
   "outputs": [],
   "source": [
    "import pandas as pd\n",
    "import numpy as np\n",
    "import matplotlib.pyplot as plt\n",
    "import seaborn as sns\n",
    "import warnings\n",
    "warnings.filterwarnings(\"ignore\")\n",
    "%matplotlib inline"
   ]
  },
  {
   "cell_type": "code",
   "execution_count": 32,
   "id": "b20110f3",
   "metadata": {},
   "outputs": [],
   "source": [
    "pd.set_option(\"display.max_columns\",None)"
   ]
  },
  {
   "cell_type": "code",
   "execution_count": 33,
   "id": "34ad11e7",
   "metadata": {},
   "outputs": [],
   "source": [
    "df = pd.read_csv('Datasets/RFM data.csv')"
   ]
  },
  {
   "cell_type": "markdown",
   "id": "d01f9b1b",
   "metadata": {},
   "source": [
    "# EDA"
   ]
  },
  {
   "cell_type": "code",
   "execution_count": 34,
   "id": "b62c3db2",
   "metadata": {
    "scrolled": true
   },
   "outputs": [
    {
     "data": {
      "text/html": [
       "<div>\n",
       "<style scoped>\n",
       "    .dataframe tbody tr th:only-of-type {\n",
       "        vertical-align: middle;\n",
       "    }\n",
       "\n",
       "    .dataframe tbody tr th {\n",
       "        vertical-align: top;\n",
       "    }\n",
       "\n",
       "    .dataframe thead th {\n",
       "        text-align: right;\n",
       "    }\n",
       "</style>\n",
       "<table border=\"1\" class=\"dataframe\">\n",
       "  <thead>\n",
       "    <tr style=\"text-align: right;\">\n",
       "      <th></th>\n",
       "      <th>InvoiceNo</th>\n",
       "      <th>StockCode</th>\n",
       "      <th>Description</th>\n",
       "      <th>Quantity</th>\n",
       "      <th>InvoiceDate</th>\n",
       "      <th>UnitPrice</th>\n",
       "      <th>CustomerID</th>\n",
       "      <th>Country</th>\n",
       "      <th>TotalPrice</th>\n",
       "    </tr>\n",
       "  </thead>\n",
       "  <tbody>\n",
       "    <tr>\n",
       "      <th>0</th>\n",
       "      <td>536365</td>\n",
       "      <td>85123A</td>\n",
       "      <td>white hanging heart t-light holder</td>\n",
       "      <td>6</td>\n",
       "      <td>2010-12-01 08:26:00</td>\n",
       "      <td>2.55</td>\n",
       "      <td>17850.0</td>\n",
       "      <td>United Kingdom</td>\n",
       "      <td>15.30</td>\n",
       "    </tr>\n",
       "    <tr>\n",
       "      <th>1</th>\n",
       "      <td>536365</td>\n",
       "      <td>71053</td>\n",
       "      <td>white metal lantern</td>\n",
       "      <td>6</td>\n",
       "      <td>2010-12-01 08:26:00</td>\n",
       "      <td>3.39</td>\n",
       "      <td>17850.0</td>\n",
       "      <td>United Kingdom</td>\n",
       "      <td>20.34</td>\n",
       "    </tr>\n",
       "    <tr>\n",
       "      <th>2</th>\n",
       "      <td>536365</td>\n",
       "      <td>84406B</td>\n",
       "      <td>cream cupid hearts coat hanger</td>\n",
       "      <td>8</td>\n",
       "      <td>2010-12-01 08:26:00</td>\n",
       "      <td>2.75</td>\n",
       "      <td>17850.0</td>\n",
       "      <td>United Kingdom</td>\n",
       "      <td>22.00</td>\n",
       "    </tr>\n",
       "    <tr>\n",
       "      <th>3</th>\n",
       "      <td>536365</td>\n",
       "      <td>84029G</td>\n",
       "      <td>knitted union flag hot water bottle</td>\n",
       "      <td>6</td>\n",
       "      <td>2010-12-01 08:26:00</td>\n",
       "      <td>3.39</td>\n",
       "      <td>17850.0</td>\n",
       "      <td>United Kingdom</td>\n",
       "      <td>20.34</td>\n",
       "    </tr>\n",
       "    <tr>\n",
       "      <th>4</th>\n",
       "      <td>536365</td>\n",
       "      <td>84029E</td>\n",
       "      <td>red woolly hottie white heart.</td>\n",
       "      <td>6</td>\n",
       "      <td>2010-12-01 08:26:00</td>\n",
       "      <td>3.39</td>\n",
       "      <td>17850.0</td>\n",
       "      <td>United Kingdom</td>\n",
       "      <td>20.34</td>\n",
       "    </tr>\n",
       "  </tbody>\n",
       "</table>\n",
       "</div>"
      ],
      "text/plain": [
       "   InvoiceNo StockCode                          Description  Quantity  \\\n",
       "0     536365    85123A   white hanging heart t-light holder         6   \n",
       "1     536365     71053                  white metal lantern         6   \n",
       "2     536365    84406B       cream cupid hearts coat hanger         8   \n",
       "3     536365    84029G  knitted union flag hot water bottle         6   \n",
       "4     536365    84029E       red woolly hottie white heart.         6   \n",
       "\n",
       "           InvoiceDate  UnitPrice  CustomerID         Country  TotalPrice  \n",
       "0  2010-12-01 08:26:00       2.55     17850.0  United Kingdom       15.30  \n",
       "1  2010-12-01 08:26:00       3.39     17850.0  United Kingdom       20.34  \n",
       "2  2010-12-01 08:26:00       2.75     17850.0  United Kingdom       22.00  \n",
       "3  2010-12-01 08:26:00       3.39     17850.0  United Kingdom       20.34  \n",
       "4  2010-12-01 08:26:00       3.39     17850.0  United Kingdom       20.34  "
      ]
     },
     "execution_count": 34,
     "metadata": {},
     "output_type": "execute_result"
    }
   ],
   "source": [
    "df.head()"
   ]
  },
  {
   "cell_type": "code",
   "execution_count": 5,
   "id": "aca4e7f8",
   "metadata": {},
   "outputs": [
    {
     "data": {
      "text/plain": [
       "(392735, 9)"
      ]
     },
     "execution_count": 5,
     "metadata": {},
     "output_type": "execute_result"
    }
   ],
   "source": [
    "df.shape"
   ]
  },
  {
   "cell_type": "code",
   "execution_count": 6,
   "id": "dc34bf7e",
   "metadata": {},
   "outputs": [
    {
     "name": "stdout",
     "output_type": "stream",
     "text": [
      "<class 'pandas.core.frame.DataFrame'>\n",
      "RangeIndex: 392735 entries, 0 to 392734\n",
      "Data columns (total 9 columns):\n",
      " #   Column       Non-Null Count   Dtype  \n",
      "---  ------       --------------   -----  \n",
      " 0   InvoiceNo    392735 non-null  int64  \n",
      " 1   StockCode    392735 non-null  object \n",
      " 2   Description  392735 non-null  object \n",
      " 3   Quantity     392735 non-null  int64  \n",
      " 4   InvoiceDate  392735 non-null  object \n",
      " 5   UnitPrice    392735 non-null  float64\n",
      " 6   CustomerID   392735 non-null  float64\n",
      " 7   Country      392735 non-null  object \n",
      " 8   TotalPrice   392735 non-null  float64\n",
      "dtypes: float64(3), int64(2), object(4)\n",
      "memory usage: 27.0+ MB\n"
     ]
    }
   ],
   "source": [
    "df.info()"
   ]
  },
  {
   "cell_type": "code",
   "execution_count": 35,
   "id": "30ec3dbe",
   "metadata": {},
   "outputs": [
    {
     "data": {
      "text/html": [
       "<div>\n",
       "<style scoped>\n",
       "    .dataframe tbody tr th:only-of-type {\n",
       "        vertical-align: middle;\n",
       "    }\n",
       "\n",
       "    .dataframe tbody tr th {\n",
       "        vertical-align: top;\n",
       "    }\n",
       "\n",
       "    .dataframe thead th {\n",
       "        text-align: right;\n",
       "    }\n",
       "</style>\n",
       "<table border=\"1\" class=\"dataframe\">\n",
       "  <thead>\n",
       "    <tr style=\"text-align: right;\">\n",
       "      <th></th>\n",
       "      <th>InvoiceNo</th>\n",
       "      <th>StockCode</th>\n",
       "      <th>Description</th>\n",
       "      <th>Quantity</th>\n",
       "      <th>InvoiceDate</th>\n",
       "      <th>UnitPrice</th>\n",
       "      <th>CustomerID</th>\n",
       "      <th>Country</th>\n",
       "      <th>TotalPrice</th>\n",
       "    </tr>\n",
       "  </thead>\n",
       "  <tbody>\n",
       "    <tr>\n",
       "      <th>count</th>\n",
       "      <td>392735.000000</td>\n",
       "      <td>392735</td>\n",
       "      <td>392735</td>\n",
       "      <td>392735.000000</td>\n",
       "      <td>392735</td>\n",
       "      <td>392735.000000</td>\n",
       "      <td>392735.000000</td>\n",
       "      <td>392735</td>\n",
       "      <td>392735.000000</td>\n",
       "    </tr>\n",
       "    <tr>\n",
       "      <th>unique</th>\n",
       "      <td>NaN</td>\n",
       "      <td>3629</td>\n",
       "      <td>3837</td>\n",
       "      <td>NaN</td>\n",
       "      <td>16859</td>\n",
       "      <td>NaN</td>\n",
       "      <td>NaN</td>\n",
       "      <td>37</td>\n",
       "      <td>NaN</td>\n",
       "    </tr>\n",
       "    <tr>\n",
       "      <th>top</th>\n",
       "      <td>NaN</td>\n",
       "      <td>85123A</td>\n",
       "      <td>white hanging heart t-light holder</td>\n",
       "      <td>NaN</td>\n",
       "      <td>2011-11-14 15:27:00</td>\n",
       "      <td>NaN</td>\n",
       "      <td>NaN</td>\n",
       "      <td>United Kingdom</td>\n",
       "      <td>NaN</td>\n",
       "    </tr>\n",
       "    <tr>\n",
       "      <th>freq</th>\n",
       "      <td>NaN</td>\n",
       "      <td>2010</td>\n",
       "      <td>2003</td>\n",
       "      <td>NaN</td>\n",
       "      <td>540</td>\n",
       "      <td>NaN</td>\n",
       "      <td>NaN</td>\n",
       "      <td>351196</td>\n",
       "      <td>NaN</td>\n",
       "    </tr>\n",
       "    <tr>\n",
       "      <th>mean</th>\n",
       "      <td>560624.318859</td>\n",
       "      <td>NaN</td>\n",
       "      <td>NaN</td>\n",
       "      <td>10.242645</td>\n",
       "      <td>NaN</td>\n",
       "      <td>2.787111</td>\n",
       "      <td>15300.835136</td>\n",
       "      <td>NaN</td>\n",
       "      <td>18.246537</td>\n",
       "    </tr>\n",
       "    <tr>\n",
       "      <th>std</th>\n",
       "      <td>13113.076784</td>\n",
       "      <td>NaN</td>\n",
       "      <td>NaN</td>\n",
       "      <td>16.172009</td>\n",
       "      <td>NaN</td>\n",
       "      <td>2.704759</td>\n",
       "      <td>1709.095993</td>\n",
       "      <td>NaN</td>\n",
       "      <td>32.558080</td>\n",
       "    </tr>\n",
       "    <tr>\n",
       "      <th>min</th>\n",
       "      <td>536365.000000</td>\n",
       "      <td>NaN</td>\n",
       "      <td>NaN</td>\n",
       "      <td>1.000000</td>\n",
       "      <td>NaN</td>\n",
       "      <td>0.120000</td>\n",
       "      <td>12347.000000</td>\n",
       "      <td>NaN</td>\n",
       "      <td>0.120000</td>\n",
       "    </tr>\n",
       "    <tr>\n",
       "      <th>25%</th>\n",
       "      <td>549233.000000</td>\n",
       "      <td>NaN</td>\n",
       "      <td>NaN</td>\n",
       "      <td>2.000000</td>\n",
       "      <td>NaN</td>\n",
       "      <td>1.250000</td>\n",
       "      <td>13975.000000</td>\n",
       "      <td>NaN</td>\n",
       "      <td>4.680000</td>\n",
       "    </tr>\n",
       "    <tr>\n",
       "      <th>50%</th>\n",
       "      <td>561894.000000</td>\n",
       "      <td>NaN</td>\n",
       "      <td>NaN</td>\n",
       "      <td>5.000000</td>\n",
       "      <td>NaN</td>\n",
       "      <td>1.950000</td>\n",
       "      <td>15159.000000</td>\n",
       "      <td>NaN</td>\n",
       "      <td>11.700000</td>\n",
       "    </tr>\n",
       "    <tr>\n",
       "      <th>75%</th>\n",
       "      <td>572103.000000</td>\n",
       "      <td>NaN</td>\n",
       "      <td>NaN</td>\n",
       "      <td>12.000000</td>\n",
       "      <td>NaN</td>\n",
       "      <td>3.750000</td>\n",
       "      <td>16800.000000</td>\n",
       "      <td>NaN</td>\n",
       "      <td>19.500000</td>\n",
       "    </tr>\n",
       "    <tr>\n",
       "      <th>max</th>\n",
       "      <td>581587.000000</td>\n",
       "      <td>NaN</td>\n",
       "      <td>NaN</td>\n",
       "      <td>147.000000</td>\n",
       "      <td>NaN</td>\n",
       "      <td>19.960000</td>\n",
       "      <td>18287.000000</td>\n",
       "      <td>NaN</td>\n",
       "      <td>1914.240000</td>\n",
       "    </tr>\n",
       "  </tbody>\n",
       "</table>\n",
       "</div>"
      ],
      "text/plain": [
       "            InvoiceNo StockCode                         Description  \\\n",
       "count   392735.000000    392735                              392735   \n",
       "unique            NaN      3629                                3837   \n",
       "top               NaN    85123A  white hanging heart t-light holder   \n",
       "freq              NaN      2010                                2003   \n",
       "mean    560624.318859       NaN                                 NaN   \n",
       "std      13113.076784       NaN                                 NaN   \n",
       "min     536365.000000       NaN                                 NaN   \n",
       "25%     549233.000000       NaN                                 NaN   \n",
       "50%     561894.000000       NaN                                 NaN   \n",
       "75%     572103.000000       NaN                                 NaN   \n",
       "max     581587.000000       NaN                                 NaN   \n",
       "\n",
       "             Quantity          InvoiceDate      UnitPrice     CustomerID  \\\n",
       "count   392735.000000               392735  392735.000000  392735.000000   \n",
       "unique            NaN                16859            NaN            NaN   \n",
       "top               NaN  2011-11-14 15:27:00            NaN            NaN   \n",
       "freq              NaN                  540            NaN            NaN   \n",
       "mean        10.242645                  NaN       2.787111   15300.835136   \n",
       "std         16.172009                  NaN       2.704759    1709.095993   \n",
       "min          1.000000                  NaN       0.120000   12347.000000   \n",
       "25%          2.000000                  NaN       1.250000   13975.000000   \n",
       "50%          5.000000                  NaN       1.950000   15159.000000   \n",
       "75%         12.000000                  NaN       3.750000   16800.000000   \n",
       "max        147.000000                  NaN      19.960000   18287.000000   \n",
       "\n",
       "               Country     TotalPrice  \n",
       "count           392735  392735.000000  \n",
       "unique              37            NaN  \n",
       "top     United Kingdom            NaN  \n",
       "freq            351196            NaN  \n",
       "mean               NaN      18.246537  \n",
       "std                NaN      32.558080  \n",
       "min                NaN       0.120000  \n",
       "25%                NaN       4.680000  \n",
       "50%                NaN      11.700000  \n",
       "75%                NaN      19.500000  \n",
       "max                NaN    1914.240000  "
      ]
     },
     "execution_count": 35,
     "metadata": {},
     "output_type": "execute_result"
    }
   ],
   "source": [
    "df.describe(include='all')"
   ]
  },
  {
   "cell_type": "code",
   "execution_count": 36,
   "id": "bbdf9e62",
   "metadata": {},
   "outputs": [
    {
     "data": {
      "text/plain": [
       "Index(['InvoiceNo', 'StockCode', 'Description', 'Quantity', 'InvoiceDate',\n",
       "       'UnitPrice', 'CustomerID', 'Country', 'TotalPrice'],\n",
       "      dtype='object')"
      ]
     },
     "execution_count": 36,
     "metadata": {},
     "output_type": "execute_result"
    }
   ],
   "source": [
    "df.columns"
   ]
  },
  {
   "cell_type": "code",
   "execution_count": 37,
   "id": "796db263",
   "metadata": {},
   "outputs": [
    {
     "data": {
      "text/plain": [
       "5182"
      ]
     },
     "execution_count": 37,
     "metadata": {},
     "output_type": "execute_result"
    }
   ],
   "source": [
    "df.duplicated().sum()"
   ]
  },
  {
   "cell_type": "code",
   "execution_count": 38,
   "id": "e6d6135c",
   "metadata": {},
   "outputs": [],
   "source": [
    "df.drop_duplicates(inplace=True,ignore_index=True)"
   ]
  },
  {
   "cell_type": "code",
   "execution_count": 39,
   "id": "34a809ff",
   "metadata": {},
   "outputs": [
    {
     "data": {
      "text/plain": [
       "(387553, 9)"
      ]
     },
     "execution_count": 39,
     "metadata": {},
     "output_type": "execute_result"
    }
   ],
   "source": [
    "df.shape"
   ]
  },
  {
   "cell_type": "code",
   "execution_count": 40,
   "id": "e702fbfd",
   "metadata": {},
   "outputs": [
    {
     "data": {
      "text/plain": [
       "InvoiceNo      0\n",
       "StockCode      0\n",
       "Description    0\n",
       "Quantity       0\n",
       "InvoiceDate    0\n",
       "UnitPrice      0\n",
       "CustomerID     0\n",
       "Country        0\n",
       "TotalPrice     0\n",
       "dtype: int64"
      ]
     },
     "execution_count": 40,
     "metadata": {},
     "output_type": "execute_result"
    }
   ],
   "source": [
    "df.isnull().sum()"
   ]
  },
  {
   "cell_type": "code",
   "execution_count": 41,
   "id": "ac3fe1f6",
   "metadata": {},
   "outputs": [
    {
     "name": "stdout",
     "output_type": "stream",
     "text": [
      "<class 'pandas.core.frame.DataFrame'>\n",
      "RangeIndex: 387553 entries, 0 to 387552\n",
      "Data columns (total 9 columns):\n",
      " #   Column       Non-Null Count   Dtype  \n",
      "---  ------       --------------   -----  \n",
      " 0   InvoiceNo    387553 non-null  int64  \n",
      " 1   StockCode    387553 non-null  object \n",
      " 2   Description  387553 non-null  object \n",
      " 3   Quantity     387553 non-null  int64  \n",
      " 4   InvoiceDate  387553 non-null  object \n",
      " 5   UnitPrice    387553 non-null  float64\n",
      " 6   CustomerID   387553 non-null  float64\n",
      " 7   Country      387553 non-null  object \n",
      " 8   TotalPrice   387553 non-null  float64\n",
      "dtypes: float64(3), int64(2), object(4)\n",
      "memory usage: 26.6+ MB\n"
     ]
    }
   ],
   "source": [
    "df.info()"
   ]
  },
  {
   "cell_type": "markdown",
   "id": "f80fba11",
   "metadata": {},
   "source": [
    "###  Min ans Max Invoice date"
   ]
  },
  {
   "cell_type": "code",
   "execution_count": 42,
   "id": "8d9493d4",
   "metadata": {},
   "outputs": [
    {
     "data": {
      "text/plain": [
       "('2010-12-01 08:26:00', '2011-12-09 12:50:00')"
      ]
     },
     "execution_count": 42,
     "metadata": {},
     "output_type": "execute_result"
    }
   ],
   "source": [
    "df['InvoiceDate'].min(),df['InvoiceDate'].max()"
   ]
  },
  {
   "cell_type": "code",
   "execution_count": 29,
   "id": "4dac45d9",
   "metadata": {},
   "outputs": [
    {
     "data": {
      "text/html": [
       "<div>\n",
       "<style scoped>\n",
       "    .dataframe tbody tr th:only-of-type {\n",
       "        vertical-align: middle;\n",
       "    }\n",
       "\n",
       "    .dataframe tbody tr th {\n",
       "        vertical-align: top;\n",
       "    }\n",
       "\n",
       "    .dataframe thead th {\n",
       "        text-align: right;\n",
       "    }\n",
       "</style>\n",
       "<table border=\"1\" class=\"dataframe\">\n",
       "  <thead>\n",
       "    <tr style=\"text-align: right;\">\n",
       "      <th></th>\n",
       "      <th>InvoiceNo</th>\n",
       "      <th>StockCode</th>\n",
       "      <th>Description</th>\n",
       "      <th>Quantity</th>\n",
       "      <th>InvoiceDate</th>\n",
       "      <th>UnitPrice</th>\n",
       "      <th>CustomerID</th>\n",
       "      <th>Country</th>\n",
       "      <th>TotalPrice</th>\n",
       "    </tr>\n",
       "  </thead>\n",
       "  <tbody>\n",
       "    <tr>\n",
       "      <th>27190</th>\n",
       "      <td>540262</td>\n",
       "      <td>47591D</td>\n",
       "      <td>pink fairy cake childrens apron</td>\n",
       "      <td>147</td>\n",
       "      <td>2011-01-06 10:01:00</td>\n",
       "      <td>1.65</td>\n",
       "      <td>14045</td>\n",
       "      <td>United Kingdom</td>\n",
       "      <td>242.55</td>\n",
       "    </tr>\n",
       "  </tbody>\n",
       "</table>\n",
       "</div>"
      ],
      "text/plain": [
       "       InvoiceNo StockCode                      Description  Quantity  \\\n",
       "27190     540262    47591D  pink fairy cake childrens apron       147   \n",
       "\n",
       "              InvoiceDate  UnitPrice  CustomerID         Country  TotalPrice  \n",
       "27190 2011-01-06 10:01:00       1.65       14045  United Kingdom      242.55  "
      ]
     },
     "execution_count": 29,
     "metadata": {},
     "output_type": "execute_result"
    }
   ],
   "source": [
    "df[df.Quantity==147]"
   ]
  },
  {
   "cell_type": "code",
   "execution_count": 30,
   "id": "807d7d69",
   "metadata": {},
   "outputs": [
    {
     "data": {
      "text/plain": [
       "242.54999999999998"
      ]
     },
     "execution_count": 30,
     "metadata": {},
     "output_type": "execute_result"
    }
   ],
   "source": [
    "147*1.65"
   ]
  },
  {
   "cell_type": "code",
   "execution_count": 43,
   "id": "eab25140",
   "metadata": {},
   "outputs": [],
   "source": [
    "df['InvoiceDate'] = pd.to_datetime(df['InvoiceDate'])"
   ]
  },
  {
   "cell_type": "code",
   "execution_count": 44,
   "id": "2d35b600",
   "metadata": {},
   "outputs": [],
   "source": [
    "df['CustomerID']= df['CustomerID'].astype(int)"
   ]
  },
  {
   "cell_type": "code",
   "execution_count": 45,
   "id": "995618a7",
   "metadata": {},
   "outputs": [
    {
     "name": "stdout",
     "output_type": "stream",
     "text": [
      "<class 'pandas.core.frame.DataFrame'>\n",
      "RangeIndex: 387553 entries, 0 to 387552\n",
      "Data columns (total 9 columns):\n",
      " #   Column       Non-Null Count   Dtype         \n",
      "---  ------       --------------   -----         \n",
      " 0   InvoiceNo    387553 non-null  int64         \n",
      " 1   StockCode    387553 non-null  object        \n",
      " 2   Description  387553 non-null  object        \n",
      " 3   Quantity     387553 non-null  int64         \n",
      " 4   InvoiceDate  387553 non-null  datetime64[ns]\n",
      " 5   UnitPrice    387553 non-null  float64       \n",
      " 6   CustomerID   387553 non-null  int32         \n",
      " 7   Country      387553 non-null  object        \n",
      " 8   TotalPrice   387553 non-null  float64       \n",
      "dtypes: datetime64[ns](1), float64(2), int32(1), int64(2), object(3)\n",
      "memory usage: 25.1+ MB\n"
     ]
    }
   ],
   "source": [
    "df.info()"
   ]
  },
  {
   "cell_type": "code",
   "execution_count": 46,
   "id": "940e57c4",
   "metadata": {},
   "outputs": [
    {
     "data": {
      "text/html": [
       "<div>\n",
       "<style scoped>\n",
       "    .dataframe tbody tr th:only-of-type {\n",
       "        vertical-align: middle;\n",
       "    }\n",
       "\n",
       "    .dataframe tbody tr th {\n",
       "        vertical-align: top;\n",
       "    }\n",
       "\n",
       "    .dataframe thead th {\n",
       "        text-align: right;\n",
       "    }\n",
       "</style>\n",
       "<table border=\"1\" class=\"dataframe\">\n",
       "  <thead>\n",
       "    <tr style=\"text-align: right;\">\n",
       "      <th></th>\n",
       "      <th>InvoiceNo</th>\n",
       "      <th>StockCode</th>\n",
       "      <th>Description</th>\n",
       "      <th>Quantity</th>\n",
       "      <th>InvoiceDate</th>\n",
       "      <th>UnitPrice</th>\n",
       "      <th>CustomerID</th>\n",
       "      <th>Country</th>\n",
       "      <th>TotalPrice</th>\n",
       "    </tr>\n",
       "  </thead>\n",
       "  <tbody>\n",
       "    <tr>\n",
       "      <th>0</th>\n",
       "      <td>536365</td>\n",
       "      <td>85123A</td>\n",
       "      <td>white hanging heart t-light holder</td>\n",
       "      <td>6</td>\n",
       "      <td>2010-12-01 08:26:00</td>\n",
       "      <td>2.55</td>\n",
       "      <td>17850</td>\n",
       "      <td>United Kingdom</td>\n",
       "      <td>15.30</td>\n",
       "    </tr>\n",
       "    <tr>\n",
       "      <th>1</th>\n",
       "      <td>536365</td>\n",
       "      <td>71053</td>\n",
       "      <td>white metal lantern</td>\n",
       "      <td>6</td>\n",
       "      <td>2010-12-01 08:26:00</td>\n",
       "      <td>3.39</td>\n",
       "      <td>17850</td>\n",
       "      <td>United Kingdom</td>\n",
       "      <td>20.34</td>\n",
       "    </tr>\n",
       "    <tr>\n",
       "      <th>2</th>\n",
       "      <td>536365</td>\n",
       "      <td>84406B</td>\n",
       "      <td>cream cupid hearts coat hanger</td>\n",
       "      <td>8</td>\n",
       "      <td>2010-12-01 08:26:00</td>\n",
       "      <td>2.75</td>\n",
       "      <td>17850</td>\n",
       "      <td>United Kingdom</td>\n",
       "      <td>22.00</td>\n",
       "    </tr>\n",
       "    <tr>\n",
       "      <th>3</th>\n",
       "      <td>536365</td>\n",
       "      <td>84029G</td>\n",
       "      <td>knitted union flag hot water bottle</td>\n",
       "      <td>6</td>\n",
       "      <td>2010-12-01 08:26:00</td>\n",
       "      <td>3.39</td>\n",
       "      <td>17850</td>\n",
       "      <td>United Kingdom</td>\n",
       "      <td>20.34</td>\n",
       "    </tr>\n",
       "    <tr>\n",
       "      <th>4</th>\n",
       "      <td>536365</td>\n",
       "      <td>84029E</td>\n",
       "      <td>red woolly hottie white heart.</td>\n",
       "      <td>6</td>\n",
       "      <td>2010-12-01 08:26:00</td>\n",
       "      <td>3.39</td>\n",
       "      <td>17850</td>\n",
       "      <td>United Kingdom</td>\n",
       "      <td>20.34</td>\n",
       "    </tr>\n",
       "  </tbody>\n",
       "</table>\n",
       "</div>"
      ],
      "text/plain": [
       "   InvoiceNo StockCode                          Description  Quantity  \\\n",
       "0     536365    85123A   white hanging heart t-light holder         6   \n",
       "1     536365     71053                  white metal lantern         6   \n",
       "2     536365    84406B       cream cupid hearts coat hanger         8   \n",
       "3     536365    84029G  knitted union flag hot water bottle         6   \n",
       "4     536365    84029E       red woolly hottie white heart.         6   \n",
       "\n",
       "          InvoiceDate  UnitPrice  CustomerID         Country  TotalPrice  \n",
       "0 2010-12-01 08:26:00       2.55       17850  United Kingdom       15.30  \n",
       "1 2010-12-01 08:26:00       3.39       17850  United Kingdom       20.34  \n",
       "2 2010-12-01 08:26:00       2.75       17850  United Kingdom       22.00  \n",
       "3 2010-12-01 08:26:00       3.39       17850  United Kingdom       20.34  \n",
       "4 2010-12-01 08:26:00       3.39       17850  United Kingdom       20.34  "
      ]
     },
     "execution_count": 46,
     "metadata": {},
     "output_type": "execute_result"
    }
   ],
   "source": [
    "df.head()"
   ]
  },
  {
   "cell_type": "markdown",
   "id": "c2a0561c",
   "metadata": {},
   "source": [
    "## Recency of each customer"
   ]
  },
  {
   "cell_type": "code",
   "execution_count": 47,
   "id": "b5005761",
   "metadata": {},
   "outputs": [
    {
     "data": {
      "text/html": [
       "<div>\n",
       "<style scoped>\n",
       "    .dataframe tbody tr th:only-of-type {\n",
       "        vertical-align: middle;\n",
       "    }\n",
       "\n",
       "    .dataframe tbody tr th {\n",
       "        vertical-align: top;\n",
       "    }\n",
       "\n",
       "    .dataframe thead th {\n",
       "        text-align: right;\n",
       "    }\n",
       "</style>\n",
       "<table border=\"1\" class=\"dataframe\">\n",
       "  <thead>\n",
       "    <tr style=\"text-align: right;\">\n",
       "      <th></th>\n",
       "      <th>Customer ID</th>\n",
       "      <th>Last Purchase Date</th>\n",
       "      <th>Recency</th>\n",
       "    </tr>\n",
       "  </thead>\n",
       "  <tbody>\n",
       "    <tr>\n",
       "      <th>0</th>\n",
       "      <td>12347</td>\n",
       "      <td>2011-12-07 15:52:00</td>\n",
       "      <td>1</td>\n",
       "    </tr>\n",
       "    <tr>\n",
       "      <th>1</th>\n",
       "      <td>12348</td>\n",
       "      <td>2011-09-25 13:13:00</td>\n",
       "      <td>74</td>\n",
       "    </tr>\n",
       "    <tr>\n",
       "      <th>2</th>\n",
       "      <td>12349</td>\n",
       "      <td>2011-11-21 09:51:00</td>\n",
       "      <td>18</td>\n",
       "    </tr>\n",
       "    <tr>\n",
       "      <th>3</th>\n",
       "      <td>12350</td>\n",
       "      <td>2011-02-02 16:01:00</td>\n",
       "      <td>309</td>\n",
       "    </tr>\n",
       "    <tr>\n",
       "      <th>4</th>\n",
       "      <td>12352</td>\n",
       "      <td>2011-11-03 14:37:00</td>\n",
       "      <td>35</td>\n",
       "    </tr>\n",
       "  </tbody>\n",
       "</table>\n",
       "</div>"
      ],
      "text/plain": [
       "   Customer ID  Last Purchase Date  Recency\n",
       "0        12347 2011-12-07 15:52:00        1\n",
       "1        12348 2011-09-25 13:13:00       74\n",
       "2        12349 2011-11-21 09:51:00       18\n",
       "3        12350 2011-02-02 16:01:00      309\n",
       "4        12352 2011-11-03 14:37:00       35"
      ]
     },
     "execution_count": 47,
     "metadata": {},
     "output_type": "execute_result"
    }
   ],
   "source": [
    "df_recency= df.groupby(by='CustomerID',as_index=False)['InvoiceDate'].max()\n",
    "df_recency.columns= ['Customer ID','Last Purchase Date']\n",
    "recent_date= df_recency['Last Purchase Date'].max()\n",
    "df_recency['Recency']= df_recency['Last Purchase Date'].apply(lambda x: (recent_date - x).days)\n",
    "df_recency.head()"
   ]
  },
  {
   "cell_type": "markdown",
   "id": "57b9aec0",
   "metadata": {},
   "source": [
    "## Frequency of each customer"
   ]
  },
  {
   "cell_type": "code",
   "execution_count": 48,
   "id": "05521c9c",
   "metadata": {},
   "outputs": [
    {
     "data": {
      "text/html": [
       "<div>\n",
       "<style scoped>\n",
       "    .dataframe tbody tr th:only-of-type {\n",
       "        vertical-align: middle;\n",
       "    }\n",
       "\n",
       "    .dataframe tbody tr th {\n",
       "        vertical-align: top;\n",
       "    }\n",
       "\n",
       "    .dataframe thead th {\n",
       "        text-align: right;\n",
       "    }\n",
       "</style>\n",
       "<table border=\"1\" class=\"dataframe\">\n",
       "  <thead>\n",
       "    <tr style=\"text-align: right;\">\n",
       "      <th></th>\n",
       "      <th>Customer ID</th>\n",
       "      <th>Frequency</th>\n",
       "    </tr>\n",
       "  </thead>\n",
       "  <tbody>\n",
       "    <tr>\n",
       "      <th>0</th>\n",
       "      <td>12347</td>\n",
       "      <td>181</td>\n",
       "    </tr>\n",
       "    <tr>\n",
       "      <th>1</th>\n",
       "      <td>12348</td>\n",
       "      <td>27</td>\n",
       "    </tr>\n",
       "    <tr>\n",
       "      <th>2</th>\n",
       "      <td>12349</td>\n",
       "      <td>71</td>\n",
       "    </tr>\n",
       "    <tr>\n",
       "      <th>3</th>\n",
       "      <td>12350</td>\n",
       "      <td>16</td>\n",
       "    </tr>\n",
       "    <tr>\n",
       "      <th>4</th>\n",
       "      <td>12352</td>\n",
       "      <td>77</td>\n",
       "    </tr>\n",
       "  </tbody>\n",
       "</table>\n",
       "</div>"
      ],
      "text/plain": [
       "   Customer ID  Frequency\n",
       "0        12347        181\n",
       "1        12348         27\n",
       "2        12349         71\n",
       "3        12350         16\n",
       "4        12352         77"
      ]
     },
     "execution_count": 48,
     "metadata": {},
     "output_type": "execute_result"
    }
   ],
   "source": [
    "df_frequency= df.groupby(by='CustomerID',as_index=False)['InvoiceDate'].count()\n",
    "df_frequency.columns= ['Customer ID','Frequency']\n",
    "df_frequency.head()"
   ]
  },
  {
   "cell_type": "markdown",
   "id": "885a78fa",
   "metadata": {},
   "source": [
    "## Monetary for each customer"
   ]
  },
  {
   "cell_type": "code",
   "execution_count": 49,
   "id": "f6f565b0",
   "metadata": {},
   "outputs": [
    {
     "data": {
      "text/html": [
       "<div>\n",
       "<style scoped>\n",
       "    .dataframe tbody tr th:only-of-type {\n",
       "        vertical-align: middle;\n",
       "    }\n",
       "\n",
       "    .dataframe tbody tr th {\n",
       "        vertical-align: top;\n",
       "    }\n",
       "\n",
       "    .dataframe thead th {\n",
       "        text-align: right;\n",
       "    }\n",
       "</style>\n",
       "<table border=\"1\" class=\"dataframe\">\n",
       "  <thead>\n",
       "    <tr style=\"text-align: right;\">\n",
       "      <th></th>\n",
       "      <th>Customer ID</th>\n",
       "      <th>Monetary</th>\n",
       "    </tr>\n",
       "  </thead>\n",
       "  <tbody>\n",
       "    <tr>\n",
       "      <th>0</th>\n",
       "      <td>12347</td>\n",
       "      <td>4060.40</td>\n",
       "    </tr>\n",
       "    <tr>\n",
       "      <th>1</th>\n",
       "      <td>12348</td>\n",
       "      <td>1437.24</td>\n",
       "    </tr>\n",
       "    <tr>\n",
       "      <th>2</th>\n",
       "      <td>12349</td>\n",
       "      <td>1417.60</td>\n",
       "    </tr>\n",
       "    <tr>\n",
       "      <th>3</th>\n",
       "      <td>12350</td>\n",
       "      <td>294.40</td>\n",
       "    </tr>\n",
       "    <tr>\n",
       "      <th>4</th>\n",
       "      <td>12352</td>\n",
       "      <td>1385.74</td>\n",
       "    </tr>\n",
       "  </tbody>\n",
       "</table>\n",
       "</div>"
      ],
      "text/plain": [
       "   Customer ID  Monetary\n",
       "0        12347   4060.40\n",
       "1        12348   1437.24\n",
       "2        12349   1417.60\n",
       "3        12350    294.40\n",
       "4        12352   1385.74"
      ]
     },
     "execution_count": 49,
     "metadata": {},
     "output_type": "execute_result"
    }
   ],
   "source": [
    "monetary_df=df.groupby(by='CustomerID',as_index=False)['TotalPrice'].sum()\n",
    "monetary_df.columns= ['Customer ID','Monetary']\n",
    "monetary_df.head()"
   ]
  },
  {
   "cell_type": "markdown",
   "id": "20e72558",
   "metadata": {},
   "source": [
    "## RFM Dataframe for each customer"
   ]
  },
  {
   "cell_type": "code",
   "execution_count": 50,
   "id": "32e56279",
   "metadata": {},
   "outputs": [
    {
     "data": {
      "text/html": [
       "<div>\n",
       "<style scoped>\n",
       "    .dataframe tbody tr th:only-of-type {\n",
       "        vertical-align: middle;\n",
       "    }\n",
       "\n",
       "    .dataframe tbody tr th {\n",
       "        vertical-align: top;\n",
       "    }\n",
       "\n",
       "    .dataframe thead th {\n",
       "        text-align: right;\n",
       "    }\n",
       "</style>\n",
       "<table border=\"1\" class=\"dataframe\">\n",
       "  <thead>\n",
       "    <tr style=\"text-align: right;\">\n",
       "      <th></th>\n",
       "      <th>Customer ID</th>\n",
       "      <th>Recency</th>\n",
       "      <th>Frequency</th>\n",
       "      <th>Monetary</th>\n",
       "    </tr>\n",
       "  </thead>\n",
       "  <tbody>\n",
       "    <tr>\n",
       "      <th>0</th>\n",
       "      <td>12347</td>\n",
       "      <td>1</td>\n",
       "      <td>181</td>\n",
       "      <td>4060.40</td>\n",
       "    </tr>\n",
       "    <tr>\n",
       "      <th>1</th>\n",
       "      <td>12348</td>\n",
       "      <td>74</td>\n",
       "      <td>27</td>\n",
       "      <td>1437.24</td>\n",
       "    </tr>\n",
       "    <tr>\n",
       "      <th>2</th>\n",
       "      <td>12349</td>\n",
       "      <td>18</td>\n",
       "      <td>71</td>\n",
       "      <td>1417.60</td>\n",
       "    </tr>\n",
       "    <tr>\n",
       "      <th>3</th>\n",
       "      <td>12350</td>\n",
       "      <td>309</td>\n",
       "      <td>16</td>\n",
       "      <td>294.40</td>\n",
       "    </tr>\n",
       "    <tr>\n",
       "      <th>4</th>\n",
       "      <td>12352</td>\n",
       "      <td>35</td>\n",
       "      <td>77</td>\n",
       "      <td>1385.74</td>\n",
       "    </tr>\n",
       "  </tbody>\n",
       "</table>\n",
       "</div>"
      ],
      "text/plain": [
       "   Customer ID  Recency  Frequency  Monetary\n",
       "0        12347        1        181   4060.40\n",
       "1        12348       74         27   1437.24\n",
       "2        12349       18         71   1417.60\n",
       "3        12350      309         16    294.40\n",
       "4        12352       35         77   1385.74"
      ]
     },
     "execution_count": 50,
     "metadata": {},
     "output_type": "execute_result"
    }
   ],
   "source": [
    "rf_df=df_recency.merge(df_frequency,on='Customer ID')\n",
    "rfm_df = rf_df.merge(monetary_df, on='Customer ID').drop(columns='Last Purchase Date')\n",
    "rfm_df.head()"
   ]
  },
  {
   "cell_type": "markdown",
   "id": "144baf61",
   "metadata": {},
   "source": [
    "## Calculate R, F, and M ranks"
   ]
  },
  {
   "cell_type": "code",
   "execution_count": 52,
   "id": "be3e068e",
   "metadata": {},
   "outputs": [],
   "source": [
    "# Calculate R, F, and M ranks\n",
    "rfm_df['R_rank'] = rfm_df['Recency'].rank(ascending=True)        # Lower recency is better\n",
    "rfm_df['F_rank'] = rfm_df['Frequency'].rank(ascending=False)      # Higher frequency is better\n",
    "rfm_df['M_rank'] = rfm_df['Monetary'].rank(ascending=False)       # Higher monetary value is better"
   ]
  },
  {
   "cell_type": "code",
   "execution_count": 53,
   "id": "86c03aa0",
   "metadata": {},
   "outputs": [
    {
     "data": {
      "text/html": [
       "<div>\n",
       "<style scoped>\n",
       "    .dataframe tbody tr th:only-of-type {\n",
       "        vertical-align: middle;\n",
       "    }\n",
       "\n",
       "    .dataframe tbody tr th {\n",
       "        vertical-align: top;\n",
       "    }\n",
       "\n",
       "    .dataframe thead th {\n",
       "        text-align: right;\n",
       "    }\n",
       "</style>\n",
       "<table border=\"1\" class=\"dataframe\">\n",
       "  <thead>\n",
       "    <tr style=\"text-align: right;\">\n",
       "      <th></th>\n",
       "      <th>Customer ID</th>\n",
       "      <th>Recency</th>\n",
       "      <th>Frequency</th>\n",
       "      <th>Monetary</th>\n",
       "      <th>R_rank</th>\n",
       "      <th>F_rank</th>\n",
       "      <th>M_rank</th>\n",
       "    </tr>\n",
       "  </thead>\n",
       "  <tbody>\n",
       "    <tr>\n",
       "      <th>0</th>\n",
       "      <td>12347</td>\n",
       "      <td>1</td>\n",
       "      <td>181</td>\n",
       "      <td>4060.40</td>\n",
       "      <td>134.5</td>\n",
       "      <td>506.5</td>\n",
       "      <td>317.0</td>\n",
       "    </tr>\n",
       "    <tr>\n",
       "      <th>1</th>\n",
       "      <td>12348</td>\n",
       "      <td>74</td>\n",
       "      <td>27</td>\n",
       "      <td>1437.24</td>\n",
       "      <td>2664.0</td>\n",
       "      <td>2696.0</td>\n",
       "      <td>1161.0</td>\n",
       "    </tr>\n",
       "    <tr>\n",
       "      <th>2</th>\n",
       "      <td>12349</td>\n",
       "      <td>18</td>\n",
       "      <td>71</td>\n",
       "      <td>1417.60</td>\n",
       "      <td>1143.5</td>\n",
       "      <td>1443.0</td>\n",
       "      <td>1185.0</td>\n",
       "    </tr>\n",
       "    <tr>\n",
       "      <th>3</th>\n",
       "      <td>12350</td>\n",
       "      <td>309</td>\n",
       "      <td>16</td>\n",
       "      <td>294.40</td>\n",
       "      <td>4072.5</td>\n",
       "      <td>3293.5</td>\n",
       "      <td>3218.0</td>\n",
       "    </tr>\n",
       "    <tr>\n",
       "      <th>4</th>\n",
       "      <td>12352</td>\n",
       "      <td>35</td>\n",
       "      <td>77</td>\n",
       "      <td>1385.74</td>\n",
       "      <td>1805.0</td>\n",
       "      <td>1365.5</td>\n",
       "      <td>1210.0</td>\n",
       "    </tr>\n",
       "  </tbody>\n",
       "</table>\n",
       "</div>"
      ],
      "text/plain": [
       "   Customer ID  Recency  Frequency  Monetary  R_rank  F_rank  M_rank\n",
       "0        12347        1        181   4060.40   134.5   506.5   317.0\n",
       "1        12348       74         27   1437.24  2664.0  2696.0  1161.0\n",
       "2        12349       18         71   1417.60  1143.5  1443.0  1185.0\n",
       "3        12350      309         16    294.40  4072.5  3293.5  3218.0\n",
       "4        12352       35         77   1385.74  1805.0  1365.5  1210.0"
      ]
     },
     "execution_count": 53,
     "metadata": {},
     "output_type": "execute_result"
    }
   ],
   "source": [
    "rfm_df.head()"
   ]
  },
  {
   "cell_type": "markdown",
   "id": "168667d1",
   "metadata": {},
   "source": [
    "## Apply scaling to the R, F, and M ranks to scale in range of 1 to 5 using min-max scalar"
   ]
  },
  {
   "cell_type": "code",
   "execution_count": 54,
   "id": "79672537",
   "metadata": {},
   "outputs": [],
   "source": [
    "from sklearn.preprocessing import MinMaxScaler\n",
    "\n",
    "# Initialize MinMaxScaler to scale values between 1 and 5\n",
    "scaler = MinMaxScaler(feature_range=(1, 5))"
   ]
  },
  {
   "cell_type": "code",
   "execution_count": 55,
   "id": "a070f7af",
   "metadata": {},
   "outputs": [],
   "source": [
    "# Apply scaling to the R, F, and M ranks\n",
    "rfm_df['R_score_scaled'] = scaler.fit_transform(rfm_df[['R_rank']])\n",
    "rfm_df['F_score_scaled'] = scaler.fit_transform(rfm_df[['F_rank']])\n",
    "rfm_df['M_score_scaled'] = scaler.fit_transform(rfm_df[['M_rank']])"
   ]
  },
  {
   "cell_type": "code",
   "execution_count": 56,
   "id": "84e68216",
   "metadata": {},
   "outputs": [
    {
     "data": {
      "text/html": [
       "<div>\n",
       "<style scoped>\n",
       "    .dataframe tbody tr th:only-of-type {\n",
       "        vertical-align: middle;\n",
       "    }\n",
       "\n",
       "    .dataframe tbody tr th {\n",
       "        vertical-align: top;\n",
       "    }\n",
       "\n",
       "    .dataframe thead th {\n",
       "        text-align: right;\n",
       "    }\n",
       "</style>\n",
       "<table border=\"1\" class=\"dataframe\">\n",
       "  <thead>\n",
       "    <tr style=\"text-align: right;\">\n",
       "      <th></th>\n",
       "      <th>Customer ID</th>\n",
       "      <th>Recency</th>\n",
       "      <th>Frequency</th>\n",
       "      <th>Monetary</th>\n",
       "      <th>R_rank</th>\n",
       "      <th>F_rank</th>\n",
       "      <th>M_rank</th>\n",
       "      <th>R_score_scaled</th>\n",
       "      <th>F_score_scaled</th>\n",
       "      <th>M_score_scaled</th>\n",
       "    </tr>\n",
       "  </thead>\n",
       "  <tbody>\n",
       "    <tr>\n",
       "      <th>0</th>\n",
       "      <td>12347</td>\n",
       "      <td>1</td>\n",
       "      <td>181</td>\n",
       "      <td>4060.40</td>\n",
       "      <td>134.5</td>\n",
       "      <td>506.5</td>\n",
       "      <td>317.0</td>\n",
       "      <td>1.083314</td>\n",
       "      <td>1.474036</td>\n",
       "      <td>1.294159</td>\n",
       "    </tr>\n",
       "    <tr>\n",
       "      <th>1</th>\n",
       "      <td>12348</td>\n",
       "      <td>74</td>\n",
       "      <td>27</td>\n",
       "      <td>1437.24</td>\n",
       "      <td>2664.0</td>\n",
       "      <td>2696.0</td>\n",
       "      <td>1161.0</td>\n",
       "      <td>3.464580</td>\n",
       "      <td>3.527254</td>\n",
       "      <td>2.079823</td>\n",
       "    </tr>\n",
       "    <tr>\n",
       "      <th>2</th>\n",
       "      <td>12349</td>\n",
       "      <td>18</td>\n",
       "      <td>71</td>\n",
       "      <td>1417.60</td>\n",
       "      <td>1143.5</td>\n",
       "      <td>1443.0</td>\n",
       "      <td>1185.0</td>\n",
       "      <td>2.033184</td>\n",
       "      <td>2.352245</td>\n",
       "      <td>2.102164</td>\n",
       "    </tr>\n",
       "    <tr>\n",
       "      <th>3</th>\n",
       "      <td>12350</td>\n",
       "      <td>309</td>\n",
       "      <td>16</td>\n",
       "      <td>294.40</td>\n",
       "      <td>4072.5</td>\n",
       "      <td>3293.5</td>\n",
       "      <td>3218.0</td>\n",
       "      <td>4.790539</td>\n",
       "      <td>4.087563</td>\n",
       "      <td>3.994647</td>\n",
       "    </tr>\n",
       "    <tr>\n",
       "      <th>4</th>\n",
       "      <td>12352</td>\n",
       "      <td>35</td>\n",
       "      <td>77</td>\n",
       "      <td>1385.74</td>\n",
       "      <td>1805.0</td>\n",
       "      <td>1365.5</td>\n",
       "      <td>1210.0</td>\n",
       "      <td>2.655919</td>\n",
       "      <td>2.279569</td>\n",
       "      <td>2.125436</td>\n",
       "    </tr>\n",
       "  </tbody>\n",
       "</table>\n",
       "</div>"
      ],
      "text/plain": [
       "   Customer ID  Recency  Frequency  Monetary  R_rank  F_rank  M_rank  \\\n",
       "0        12347        1        181   4060.40   134.5   506.5   317.0   \n",
       "1        12348       74         27   1437.24  2664.0  2696.0  1161.0   \n",
       "2        12349       18         71   1417.60  1143.5  1443.0  1185.0   \n",
       "3        12350      309         16    294.40  4072.5  3293.5  3218.0   \n",
       "4        12352       35         77   1385.74  1805.0  1365.5  1210.0   \n",
       "\n",
       "   R_score_scaled  F_score_scaled  M_score_scaled  \n",
       "0        1.083314        1.474036        1.294159  \n",
       "1        3.464580        3.527254        2.079823  \n",
       "2        2.033184        2.352245        2.102164  \n",
       "3        4.790539        4.087563        3.994647  \n",
       "4        2.655919        2.279569        2.125436  "
      ]
     },
     "execution_count": 56,
     "metadata": {},
     "output_type": "execute_result"
    }
   ],
   "source": [
    "rfm_df.head()"
   ]
  },
  {
   "cell_type": "code",
   "execution_count": 57,
   "id": "afb39f06",
   "metadata": {},
   "outputs": [],
   "source": [
    "rfm_df['R_score_scaled']= np.round(rfm_df['R_score_scaled'],2)\n",
    "rfm_df['F_score_scaled']=np.round(rfm_df['F_score_scaled'],2)\n",
    "rfm_df['M_score_scaled']=np.round(rfm_df['M_score_scaled'],2)"
   ]
  },
  {
   "cell_type": "code",
   "execution_count": 58,
   "id": "4d77c933",
   "metadata": {},
   "outputs": [
    {
     "data": {
      "text/html": [
       "<div>\n",
       "<style scoped>\n",
       "    .dataframe tbody tr th:only-of-type {\n",
       "        vertical-align: middle;\n",
       "    }\n",
       "\n",
       "    .dataframe tbody tr th {\n",
       "        vertical-align: top;\n",
       "    }\n",
       "\n",
       "    .dataframe thead th {\n",
       "        text-align: right;\n",
       "    }\n",
       "</style>\n",
       "<table border=\"1\" class=\"dataframe\">\n",
       "  <thead>\n",
       "    <tr style=\"text-align: right;\">\n",
       "      <th></th>\n",
       "      <th>Customer ID</th>\n",
       "      <th>Recency</th>\n",
       "      <th>Frequency</th>\n",
       "      <th>Monetary</th>\n",
       "      <th>R_rank</th>\n",
       "      <th>F_rank</th>\n",
       "      <th>M_rank</th>\n",
       "      <th>R_score_scaled</th>\n",
       "      <th>F_score_scaled</th>\n",
       "      <th>M_score_scaled</th>\n",
       "    </tr>\n",
       "  </thead>\n",
       "  <tbody>\n",
       "    <tr>\n",
       "      <th>0</th>\n",
       "      <td>12347</td>\n",
       "      <td>1</td>\n",
       "      <td>181</td>\n",
       "      <td>4060.40</td>\n",
       "      <td>134.5</td>\n",
       "      <td>506.5</td>\n",
       "      <td>317.0</td>\n",
       "      <td>1.08</td>\n",
       "      <td>1.47</td>\n",
       "      <td>1.29</td>\n",
       "    </tr>\n",
       "    <tr>\n",
       "      <th>1</th>\n",
       "      <td>12348</td>\n",
       "      <td>74</td>\n",
       "      <td>27</td>\n",
       "      <td>1437.24</td>\n",
       "      <td>2664.0</td>\n",
       "      <td>2696.0</td>\n",
       "      <td>1161.0</td>\n",
       "      <td>3.46</td>\n",
       "      <td>3.53</td>\n",
       "      <td>2.08</td>\n",
       "    </tr>\n",
       "    <tr>\n",
       "      <th>2</th>\n",
       "      <td>12349</td>\n",
       "      <td>18</td>\n",
       "      <td>71</td>\n",
       "      <td>1417.60</td>\n",
       "      <td>1143.5</td>\n",
       "      <td>1443.0</td>\n",
       "      <td>1185.0</td>\n",
       "      <td>2.03</td>\n",
       "      <td>2.35</td>\n",
       "      <td>2.10</td>\n",
       "    </tr>\n",
       "    <tr>\n",
       "      <th>3</th>\n",
       "      <td>12350</td>\n",
       "      <td>309</td>\n",
       "      <td>16</td>\n",
       "      <td>294.40</td>\n",
       "      <td>4072.5</td>\n",
       "      <td>3293.5</td>\n",
       "      <td>3218.0</td>\n",
       "      <td>4.79</td>\n",
       "      <td>4.09</td>\n",
       "      <td>3.99</td>\n",
       "    </tr>\n",
       "    <tr>\n",
       "      <th>4</th>\n",
       "      <td>12352</td>\n",
       "      <td>35</td>\n",
       "      <td>77</td>\n",
       "      <td>1385.74</td>\n",
       "      <td>1805.0</td>\n",
       "      <td>1365.5</td>\n",
       "      <td>1210.0</td>\n",
       "      <td>2.66</td>\n",
       "      <td>2.28</td>\n",
       "      <td>2.13</td>\n",
       "    </tr>\n",
       "  </tbody>\n",
       "</table>\n",
       "</div>"
      ],
      "text/plain": [
       "   Customer ID  Recency  Frequency  Monetary  R_rank  F_rank  M_rank  \\\n",
       "0        12347        1        181   4060.40   134.5   506.5   317.0   \n",
       "1        12348       74         27   1437.24  2664.0  2696.0  1161.0   \n",
       "2        12349       18         71   1417.60  1143.5  1443.0  1185.0   \n",
       "3        12350      309         16    294.40  4072.5  3293.5  3218.0   \n",
       "4        12352       35         77   1385.74  1805.0  1365.5  1210.0   \n",
       "\n",
       "   R_score_scaled  F_score_scaled  M_score_scaled  \n",
       "0            1.08            1.47            1.29  \n",
       "1            3.46            3.53            2.08  \n",
       "2            2.03            2.35            2.10  \n",
       "3            4.79            4.09            3.99  \n",
       "4            2.66            2.28            2.13  "
      ]
     },
     "execution_count": 58,
     "metadata": {},
     "output_type": "execute_result"
    }
   ],
   "source": [
    "rfm_df.head()"
   ]
  },
  {
   "cell_type": "markdown",
   "id": "292c2fb0",
   "metadata": {},
   "source": [
    "## Calculate the RFM Score for each customer"
   ]
  },
  {
   "cell_type": "code",
   "execution_count": 59,
   "id": "3722422d",
   "metadata": {},
   "outputs": [],
   "source": [
    "# Calculate the final RFM Score\n",
    "rfm_df['RFM_Score'] = rfm_df['R_score_scaled'] + rfm_df['F_score_scaled'] + rfm_df['M_score_scaled']"
   ]
  },
  {
   "cell_type": "code",
   "execution_count": 60,
   "id": "b55b2b3e",
   "metadata": {},
   "outputs": [
    {
     "data": {
      "text/html": [
       "<div>\n",
       "<style scoped>\n",
       "    .dataframe tbody tr th:only-of-type {\n",
       "        vertical-align: middle;\n",
       "    }\n",
       "\n",
       "    .dataframe tbody tr th {\n",
       "        vertical-align: top;\n",
       "    }\n",
       "\n",
       "    .dataframe thead th {\n",
       "        text-align: right;\n",
       "    }\n",
       "</style>\n",
       "<table border=\"1\" class=\"dataframe\">\n",
       "  <thead>\n",
       "    <tr style=\"text-align: right;\">\n",
       "      <th></th>\n",
       "      <th>Customer ID</th>\n",
       "      <th>Recency</th>\n",
       "      <th>Frequency</th>\n",
       "      <th>Monetary</th>\n",
       "      <th>R_rank</th>\n",
       "      <th>F_rank</th>\n",
       "      <th>M_rank</th>\n",
       "      <th>R_score_scaled</th>\n",
       "      <th>F_score_scaled</th>\n",
       "      <th>M_score_scaled</th>\n",
       "      <th>RFM_Score</th>\n",
       "    </tr>\n",
       "  </thead>\n",
       "  <tbody>\n",
       "    <tr>\n",
       "      <th>0</th>\n",
       "      <td>12347</td>\n",
       "      <td>1</td>\n",
       "      <td>181</td>\n",
       "      <td>4060.40</td>\n",
       "      <td>134.5</td>\n",
       "      <td>506.5</td>\n",
       "      <td>317.0</td>\n",
       "      <td>1.08</td>\n",
       "      <td>1.47</td>\n",
       "      <td>1.29</td>\n",
       "      <td>3.84</td>\n",
       "    </tr>\n",
       "    <tr>\n",
       "      <th>1</th>\n",
       "      <td>12348</td>\n",
       "      <td>74</td>\n",
       "      <td>27</td>\n",
       "      <td>1437.24</td>\n",
       "      <td>2664.0</td>\n",
       "      <td>2696.0</td>\n",
       "      <td>1161.0</td>\n",
       "      <td>3.46</td>\n",
       "      <td>3.53</td>\n",
       "      <td>2.08</td>\n",
       "      <td>9.07</td>\n",
       "    </tr>\n",
       "    <tr>\n",
       "      <th>2</th>\n",
       "      <td>12349</td>\n",
       "      <td>18</td>\n",
       "      <td>71</td>\n",
       "      <td>1417.60</td>\n",
       "      <td>1143.5</td>\n",
       "      <td>1443.0</td>\n",
       "      <td>1185.0</td>\n",
       "      <td>2.03</td>\n",
       "      <td>2.35</td>\n",
       "      <td>2.10</td>\n",
       "      <td>6.48</td>\n",
       "    </tr>\n",
       "    <tr>\n",
       "      <th>3</th>\n",
       "      <td>12350</td>\n",
       "      <td>309</td>\n",
       "      <td>16</td>\n",
       "      <td>294.40</td>\n",
       "      <td>4072.5</td>\n",
       "      <td>3293.5</td>\n",
       "      <td>3218.0</td>\n",
       "      <td>4.79</td>\n",
       "      <td>4.09</td>\n",
       "      <td>3.99</td>\n",
       "      <td>12.87</td>\n",
       "    </tr>\n",
       "    <tr>\n",
       "      <th>4</th>\n",
       "      <td>12352</td>\n",
       "      <td>35</td>\n",
       "      <td>77</td>\n",
       "      <td>1385.74</td>\n",
       "      <td>1805.0</td>\n",
       "      <td>1365.5</td>\n",
       "      <td>1210.0</td>\n",
       "      <td>2.66</td>\n",
       "      <td>2.28</td>\n",
       "      <td>2.13</td>\n",
       "      <td>7.07</td>\n",
       "    </tr>\n",
       "  </tbody>\n",
       "</table>\n",
       "</div>"
      ],
      "text/plain": [
       "   Customer ID  Recency  Frequency  Monetary  R_rank  F_rank  M_rank  \\\n",
       "0        12347        1        181   4060.40   134.5   506.5   317.0   \n",
       "1        12348       74         27   1437.24  2664.0  2696.0  1161.0   \n",
       "2        12349       18         71   1417.60  1143.5  1443.0  1185.0   \n",
       "3        12350      309         16    294.40  4072.5  3293.5  3218.0   \n",
       "4        12352       35         77   1385.74  1805.0  1365.5  1210.0   \n",
       "\n",
       "   R_score_scaled  F_score_scaled  M_score_scaled  RFM_Score  \n",
       "0            1.08            1.47            1.29       3.84  \n",
       "1            3.46            3.53            2.08       9.07  \n",
       "2            2.03            2.35            2.10       6.48  \n",
       "3            4.79            4.09            3.99      12.87  \n",
       "4            2.66            2.28            2.13       7.07  "
      ]
     },
     "execution_count": 60,
     "metadata": {},
     "output_type": "execute_result"
    }
   ],
   "source": [
    "rfm_df.head()"
   ]
  },
  {
   "cell_type": "markdown",
   "id": "d2c433cb",
   "metadata": {},
   "source": [
    "- higher RFM scores indicate more valuable customers"
   ]
  },
  {
   "cell_type": "markdown",
   "id": "01cdd7a0",
   "metadata": {},
   "source": [
    "## segment customers based on RFM score ranges"
   ]
  },
  {
   "cell_type": "code",
   "execution_count": 61,
   "id": "37bbd381",
   "metadata": {},
   "outputs": [],
   "source": [
    "# Define function to segment customers based on RFM score ranges\n",
    "def assign_segment(row):\n",
    "    R, F, M = row['R_score_scaled'], row['F_score_scaled'], row['M_score_scaled']\n",
    "    \n",
    "    # Define conditions based on the given RFM ranges\n",
    "    if R >= 4 and F >= 4 and M >= 4:\n",
    "        return 'Champions'\n",
    "    elif R >= 3 and F >= 3 and M >= 3:\n",
    "        return 'Loyal customers'\n",
    "    elif R >= 4 and F >= 2 and M >= 2:\n",
    "        return 'Potential loyalist'\n",
    "    elif R >= 4 and F <= 2 and M <= 2:\n",
    "        return 'Recent customers'\n",
    "    elif R >= 4 and F <= 2 and M <= 2:\n",
    "        return 'Promising'\n",
    "    elif R >= 3 and F >= 3 and M >= 3:\n",
    "        return 'Needs attention'\n",
    "    elif R <= 2 and F <= 2 and M <= 2:\n",
    "        return 'Hibernating'\n",
    "    elif R >= 2 and F <= 3 and M <= 3:\n",
    "        return 'At risk'\n",
    "    elif R <= 3 and F >= 4 and M >= 4:\n",
    "        return \"Can't lose them\"\n",
    "    elif R <= 2 and F <= 2 and M <= 2:\n",
    "        return 'About to sleep'\n",
    "    else:\n",
    "        return 'Other'"
   ]
  },
  {
   "cell_type": "code",
   "execution_count": 62,
   "id": "6eb83b08",
   "metadata": {},
   "outputs": [],
   "source": [
    "# Apply function to create a new 'Segment' column\n",
    "rfm_df['Segment'] = rfm_df.apply(assign_segment, axis=1)"
   ]
  },
  {
   "cell_type": "code",
   "execution_count": 63,
   "id": "753d134f",
   "metadata": {},
   "outputs": [
    {
     "data": {
      "text/html": [
       "<div>\n",
       "<style scoped>\n",
       "    .dataframe tbody tr th:only-of-type {\n",
       "        vertical-align: middle;\n",
       "    }\n",
       "\n",
       "    .dataframe tbody tr th {\n",
       "        vertical-align: top;\n",
       "    }\n",
       "\n",
       "    .dataframe thead th {\n",
       "        text-align: right;\n",
       "    }\n",
       "</style>\n",
       "<table border=\"1\" class=\"dataframe\">\n",
       "  <thead>\n",
       "    <tr style=\"text-align: right;\">\n",
       "      <th></th>\n",
       "      <th>Customer ID</th>\n",
       "      <th>Recency</th>\n",
       "      <th>Frequency</th>\n",
       "      <th>Monetary</th>\n",
       "      <th>R_rank</th>\n",
       "      <th>F_rank</th>\n",
       "      <th>M_rank</th>\n",
       "      <th>R_score_scaled</th>\n",
       "      <th>F_score_scaled</th>\n",
       "      <th>M_score_scaled</th>\n",
       "      <th>RFM_Score</th>\n",
       "      <th>Segment</th>\n",
       "    </tr>\n",
       "  </thead>\n",
       "  <tbody>\n",
       "    <tr>\n",
       "      <th>0</th>\n",
       "      <td>12347</td>\n",
       "      <td>1</td>\n",
       "      <td>181</td>\n",
       "      <td>4060.40</td>\n",
       "      <td>134.5</td>\n",
       "      <td>506.5</td>\n",
       "      <td>317.0</td>\n",
       "      <td>1.08</td>\n",
       "      <td>1.47</td>\n",
       "      <td>1.29</td>\n",
       "      <td>3.84</td>\n",
       "      <td>Hibernating</td>\n",
       "    </tr>\n",
       "    <tr>\n",
       "      <th>1</th>\n",
       "      <td>12348</td>\n",
       "      <td>74</td>\n",
       "      <td>27</td>\n",
       "      <td>1437.24</td>\n",
       "      <td>2664.0</td>\n",
       "      <td>2696.0</td>\n",
       "      <td>1161.0</td>\n",
       "      <td>3.46</td>\n",
       "      <td>3.53</td>\n",
       "      <td>2.08</td>\n",
       "      <td>9.07</td>\n",
       "      <td>Other</td>\n",
       "    </tr>\n",
       "    <tr>\n",
       "      <th>2</th>\n",
       "      <td>12349</td>\n",
       "      <td>18</td>\n",
       "      <td>71</td>\n",
       "      <td>1417.60</td>\n",
       "      <td>1143.5</td>\n",
       "      <td>1443.0</td>\n",
       "      <td>1185.0</td>\n",
       "      <td>2.03</td>\n",
       "      <td>2.35</td>\n",
       "      <td>2.10</td>\n",
       "      <td>6.48</td>\n",
       "      <td>At risk</td>\n",
       "    </tr>\n",
       "    <tr>\n",
       "      <th>3</th>\n",
       "      <td>12350</td>\n",
       "      <td>309</td>\n",
       "      <td>16</td>\n",
       "      <td>294.40</td>\n",
       "      <td>4072.5</td>\n",
       "      <td>3293.5</td>\n",
       "      <td>3218.0</td>\n",
       "      <td>4.79</td>\n",
       "      <td>4.09</td>\n",
       "      <td>3.99</td>\n",
       "      <td>12.87</td>\n",
       "      <td>Loyal customers</td>\n",
       "    </tr>\n",
       "    <tr>\n",
       "      <th>4</th>\n",
       "      <td>12352</td>\n",
       "      <td>35</td>\n",
       "      <td>77</td>\n",
       "      <td>1385.74</td>\n",
       "      <td>1805.0</td>\n",
       "      <td>1365.5</td>\n",
       "      <td>1210.0</td>\n",
       "      <td>2.66</td>\n",
       "      <td>2.28</td>\n",
       "      <td>2.13</td>\n",
       "      <td>7.07</td>\n",
       "      <td>At risk</td>\n",
       "    </tr>\n",
       "  </tbody>\n",
       "</table>\n",
       "</div>"
      ],
      "text/plain": [
       "   Customer ID  Recency  Frequency  Monetary  R_rank  F_rank  M_rank  \\\n",
       "0        12347        1        181   4060.40   134.5   506.5   317.0   \n",
       "1        12348       74         27   1437.24  2664.0  2696.0  1161.0   \n",
       "2        12349       18         71   1417.60  1143.5  1443.0  1185.0   \n",
       "3        12350      309         16    294.40  4072.5  3293.5  3218.0   \n",
       "4        12352       35         77   1385.74  1805.0  1365.5  1210.0   \n",
       "\n",
       "   R_score_scaled  F_score_scaled  M_score_scaled  RFM_Score          Segment  \n",
       "0            1.08            1.47            1.29       3.84      Hibernating  \n",
       "1            3.46            3.53            2.08       9.07            Other  \n",
       "2            2.03            2.35            2.10       6.48          At risk  \n",
       "3            4.79            4.09            3.99      12.87  Loyal customers  \n",
       "4            2.66            2.28            2.13       7.07          At risk  "
      ]
     },
     "execution_count": 63,
     "metadata": {},
     "output_type": "execute_result"
    }
   ],
   "source": [
    "rfm_df.head()"
   ]
  },
  {
   "cell_type": "code",
   "execution_count": 64,
   "id": "8fb85af4",
   "metadata": {},
   "outputs": [
    {
     "data": {
      "text/plain": [
       "Segment\n",
       "Other                 1222\n",
       "At risk                925\n",
       "Loyal customers        882\n",
       "Hibernating            453\n",
       "Champions              385\n",
       "Potential loyalist     214\n",
       "Can't lose them        194\n",
       "Recent customers        23\n",
       "Name: count, dtype: int64"
      ]
     },
     "execution_count": 64,
     "metadata": {},
     "output_type": "execute_result"
    }
   ],
   "source": [
    "rfm_df['Segment'].value_counts()"
   ]
  },
  {
   "cell_type": "code",
   "execution_count": 66,
   "id": "292c42aa",
   "metadata": {},
   "outputs": [
    {
     "data": {
      "image/png": "[encoded data removed]",
      "text/plain": [
       "<Figure size 640x480 with 1 Axes>"
      ]
     },
     "metadata": {},
     "output_type": "display_data"
    }
   ],
   "source": [
    "rfm_df['Segment'].value_counts().plot(kind='pie',autopct='%1.2f%%');\n",
    "plt.ylabel(\" \");"
   ]
  },
  {
   "cell_type": "markdown",
   "id": "1612eb7f",
   "metadata": {},
   "source": [
    "## Strategies and insights\n",
    "- the customers who are at risk with low RFM score must be retained by giving some discount and other offers and card or membership\n",
    "- the recent customers must be contacted and recommened for new product launches or products matching their interest and given offers to keep visiting the store\n",
    "- loyal customers are having high RFM score so ideal customers for the store\n",
    "- customers can be reached rewards, marketting, personalized recommendations of products, surveys, feedbacks, regular engagement etc\n",
    "- the risk customers can be retained through data driven decisions"
   ]
  },
  {
   "cell_type": "code",
   "execution_count": null,
   "id": "0228b2a4",
   "metadata": {},
   "outputs": [],
   "source": []
  }
 ],
 "metadata": {
  "kernelspec": {
   "display_name": "Python 3 (ipykernel)",
   "language": "python",
   "name": "python3"
  },
  "language_info": {
   "codemirror_mode": {
    "name": "ipython",
    "version": 3
   },
   "file_extension": ".py",
   "mimetype": "text/x-python",
   "name": "python",
   "nbconvert_exporter": "python",
   "pygments_lexer": "ipython3",
   "version": "3.11.7"
  }
 },
 "nbformat": 4,
 "nbformat_minor": 5
}
